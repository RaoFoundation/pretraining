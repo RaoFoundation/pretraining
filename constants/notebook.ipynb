{
 "cells": [
  {
   "cell_type": "code",
   "execution_count": 1,
   "metadata": {},
   "outputs": [
    {
     "name": "stderr",
     "output_type": "stream",
     "text": [
      "/home/sam/pretraining/.venv/lib/python3.10/site-packages/tqdm/auto.py:21: TqdmWarning: IProgress not found. Please update jupyter and ipywidgets. See https://ipywidgets.readthedocs.io/en/stable/user_install.html\n",
      "  from .autonotebook import tqdm as notebook_tqdm\n"
     ]
    }
   ],
   "source": [
    "from transformers import GPT2Config, GPT2LMHeadModel\n",
    "\n",
    "config = GPT2Config(\n",
    "    n_head=10,\n",
    "    n_layer=12,\n",
    "    n_embd=760,\n",
    "    )\n",
    "\n",
    "model = GPT2LMHeadModel(config)"
   ]
  },
  {
   "cell_type": "code",
   "execution_count": 2,
   "metadata": {},
   "outputs": [],
   "source": [
    "import random\n",
    "import pretrain as pt\n",
    "\n",
    "pages = [\n",
    "    random.randint(1, pt.dataset.SubsetFalconLoader.max_pages)\n",
    "    for _ in range(1)\n",
    "]\n",
    "batches = list(\n",
    "    pt.dataset.SubsetFalconLoader(\n",
    "        batch_size=1,\n",
    "        sequence_length=10,\n",
    "        pages=pages,\n",
    "    )\n",
    ")\n"
   ]
  },
  {
   "cell_type": "code",
   "execution_count": 3,
   "metadata": {},
   "outputs": [],
   "source": [
    "import math\n",
    "\n",
    "model.to('cpu')\n",
    "model.eval()\n",
    "\n",
    "# Iterate over each page and corresponding batches\n",
    "losses = []\n",
    "for batch in batches:\n",
    "    try:\n",
    "        inputs = batch.to('cpu')\n",
    "        outputs = model(inputs, labels=inputs)\n",
    "        loss = outputs.loss.item()  # Extract scalar loss value\n",
    "        losses.append(loss)\n",
    "    except Exception as e:\n",
    "        print(f\"Exception occurred: {e}\")\n",
    "        losses.append(math.inf)  # Use infinity to indicate failure\n",
    "\n",
    "print(losses)"
   ]
  },
  {
   "cell_type": "code",
   "execution_count": null,
   "metadata": {},
   "outputs": [],
   "source": [
    "import math\n",
    "import torch\n",
    "\n",
    "model.to('cpu')\n",
    "model.eval()\n",
    "\n",
    "# Iterate over each page and corresponding batches\n",
    "losses = []\n",
    "for batch in batches:\n",
    "    try:\n",
    "        inputs = batch.to('cpu')\n",
    "        logits = model(inputs).logits\n",
    "        print(f\"Batch logits: {logits}\")\n",
    "\n",
    "        shift_logits = logits[..., :-1, :].contiguous()\n",
    "        shift_labels = inputs[..., 1:].contiguous()\n",
    "        # Flatten the tokens\n",
    "        loss_fct = torch.nn.CrossEntropyLoss()\n",
    "        shift_logits = shift_logits.view(-1, model.config.vocab_size)\n",
    "        shift_labels = shift_labels.view(-1)\n",
    "        loss = loss_fct(shift_logits, shift_labels).item()\n",
    "    \n",
    "        losses.append(loss)\n",
    "        print(f\"Batch loss: {loss}\")\n",
    "    except Exception as e:\n",
    "        print(f\"Exception occurred: {e}\")\n",
    "        losses.append(math.inf)  # Use infinity to indicate failure\n",
    "\n",
    "print(losses)"
   ]
  }
 ],
 "metadata": {
  "kernelspec": {
   "display_name": ".venv",
   "language": "python",
   "name": "python3"
  },
  "language_info": {
   "codemirror_mode": {
    "name": "ipython",
    "version": 3
   },
   "file_extension": ".py",
   "mimetype": "text/x-python",
   "name": "python",
   "nbconvert_exporter": "python",
   "pygments_lexer": "ipython3",
   "version": "3.10.12"
  }
 },
 "nbformat": 4,
 "nbformat_minor": 2
}
